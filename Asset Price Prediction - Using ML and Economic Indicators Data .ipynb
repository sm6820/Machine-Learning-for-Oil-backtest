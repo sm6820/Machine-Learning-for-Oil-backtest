{
 "cells": [
  {
   "cell_type": "markdown",
   "metadata": {},
   "source": [
    "####  Importing required libraries"
   ]
  },
  {
   "cell_type": "code",
   "execution_count": 1,
   "metadata": {},
   "outputs": [],
   "source": [
    "## Importing dataframe manipulation tools\n",
    "import pandas as pd\n",
    "import numpy as np\n",
    "import datetime as dt\n",
    "import matplotlib.pyplot as plt\n",
    "import re\n",
    "%matplotlib inline\n",
    "\n",
    "## Importing Classification Algorithms\n",
    "from sklearn.linear_model import LogisticRegression\n",
    "from sklearn.neighbors import KNeighborsClassifier\n",
    "from sklearn.svm import SVC\n",
    "from sklearn.ensemble import RandomForestClassifier\n",
    "from sklearn.naive_bayes import GaussianNB\n",
    "from xgboost import XGBClassifier\n",
    "from sklearn import model_selection\n",
    "from sklearn.model_selection import TimeSeriesSplit\n",
    "from sklearn.ensemble import RandomForestRegressor\n",
    "from sklearn.naive_bayes import BernoulliNB"
   ]
  },
  {
   "cell_type": "markdown",
   "metadata": {},
   "source": [
    "## Step 1 - Preprocessing economic data"
   ]
  },
  {
   "cell_type": "code",
   "execution_count": 2,
   "metadata": {},
   "outputs": [
    {
     "data": {
      "text/html": [
       "<div>\n",
       "<style scoped>\n",
       "    .dataframe tbody tr th:only-of-type {\n",
       "        vertical-align: middle;\n",
       "    }\n",
       "\n",
       "    .dataframe tbody tr th {\n",
       "        vertical-align: top;\n",
       "    }\n",
       "\n",
       "    .dataframe thead th {\n",
       "        text-align: right;\n",
       "    }\n",
       "</style>\n",
       "<table border=\"1\" class=\"dataframe\">\n",
       "  <thead>\n",
       "    <tr style=\"text-align: right;\">\n",
       "      <th></th>\n",
       "      <th>Time</th>\n",
       "      <th>Country</th>\n",
       "      <th>Volatility</th>\n",
       "      <th>Event_desc</th>\n",
       "      <th>Event_eval</th>\n",
       "      <th>Data_format</th>\n",
       "      <th>Actual</th>\n",
       "      <th>Forecast</th>\n",
       "      <th>Previous</th>\n",
       "    </tr>\n",
       "    <tr>\n",
       "      <th>Date</th>\n",
       "      <th></th>\n",
       "      <th></th>\n",
       "      <th></th>\n",
       "      <th></th>\n",
       "      <th></th>\n",
       "      <th></th>\n",
       "      <th></th>\n",
       "      <th></th>\n",
       "      <th></th>\n",
       "    </tr>\n",
       "  </thead>\n",
       "  <tbody>\n",
       "    <tr>\n",
       "      <th>2011-01-01</th>\n",
       "      <td>04:00:00</td>\n",
       "      <td>United States</td>\n",
       "      <td>Moderate Volatility Expected</td>\n",
       "      <td>10-Year Note Auction</td>\n",
       "      <td>NaN</td>\n",
       "      <td>%</td>\n",
       "      <td>3.38</td>\n",
       "      <td></td>\n",
       "      <td>2.63</td>\n",
       "    </tr>\n",
       "    <tr>\n",
       "      <th>2011-01-01</th>\n",
       "      <td>04:00:00</td>\n",
       "      <td>United States</td>\n",
       "      <td>Low Volatility Expected</td>\n",
       "      <td>3-Month Bill Auction</td>\n",
       "      <td>NaN</td>\n",
       "      <td>%</td>\n",
       "      <td>0.18</td>\n",
       "      <td></td>\n",
       "      <td>0.18</td>\n",
       "    </tr>\n",
       "    <tr>\n",
       "      <th>2011-01-01</th>\n",
       "      <td>04:00:00</td>\n",
       "      <td>United States</td>\n",
       "      <td>Low Volatility Expected</td>\n",
       "      <td>3-Year Note Auction</td>\n",
       "      <td>NaN</td>\n",
       "      <td>%</td>\n",
       "      <td>0.73</td>\n",
       "      <td></td>\n",
       "      <td>0.5</td>\n",
       "    </tr>\n",
       "    <tr>\n",
       "      <th>2011-01-01</th>\n",
       "      <td>04:00:00</td>\n",
       "      <td>United States</td>\n",
       "      <td>Low Volatility Expected</td>\n",
       "      <td>30-Year Bond Auction</td>\n",
       "      <td>NaN</td>\n",
       "      <td>%</td>\n",
       "      <td>4.25</td>\n",
       "      <td></td>\n",
       "      <td>4.25</td>\n",
       "    </tr>\n",
       "    <tr>\n",
       "      <th>2011-01-01</th>\n",
       "      <td>04:00:00</td>\n",
       "      <td>United States</td>\n",
       "      <td>Low Volatility Expected</td>\n",
       "      <td>5-Year Note Auction</td>\n",
       "      <td>NaN</td>\n",
       "      <td>%</td>\n",
       "      <td>2.13</td>\n",
       "      <td></td>\n",
       "      <td>1.38</td>\n",
       "    </tr>\n",
       "  </tbody>\n",
       "</table>\n",
       "</div>"
      ],
      "text/plain": [
       "                Time        Country                    Volatility  \\\n",
       "Date                                                                \n",
       "2011-01-01  04:00:00  United States  Moderate Volatility Expected   \n",
       "2011-01-01  04:00:00  United States       Low Volatility Expected   \n",
       "2011-01-01  04:00:00  United States       Low Volatility Expected   \n",
       "2011-01-01  04:00:00  United States       Low Volatility Expected   \n",
       "2011-01-01  04:00:00  United States       Low Volatility Expected   \n",
       "\n",
       "                      Event_desc Event_eval Data_format Actual Forecast  \\\n",
       "Date                                                                      \n",
       "2011-01-01  10-Year Note Auction        NaN          %    3.38            \n",
       "2011-01-01  3-Month Bill Auction        NaN          %    0.18            \n",
       "2011-01-01   3-Year Note Auction        NaN          %    0.73            \n",
       "2011-01-01  30-Year Bond Auction        NaN          %    4.25            \n",
       "2011-01-01   5-Year Note Auction        NaN          %    2.13            \n",
       "\n",
       "           Previous  \n",
       "Date                 \n",
       "2011-01-01     2.63  \n",
       "2011-01-01     0.18  \n",
       "2011-01-01      0.5  \n",
       "2011-01-01     4.25  \n",
       "2011-01-01     1.38  "
      ]
     },
     "execution_count": 2,
     "metadata": {},
     "output_type": "execute_result"
    }
   ],
   "source": [
    "## Reading economic data - data acquired from one of the projects form kaggle.com\n",
    "calendar11_13 = pd.read_excel(\"D2011-13.xls\", header = None, index_col = 0, parse_dates = True, na_values = \"0\")\n",
    "calendar14_18 = pd.read_excel(\"D2014-18.xls\", header = None, index_col = 0, parse_dates = True, na_values = \"0\")\n",
    "calendar19_20 = pd.read_excel(\"D2019-20.xls\", header = None, index_col = 0, parse_dates = True, na_values = \"0\")\n",
    "economic_calendar = calendar11_13.append(calendar14_18.append((calendar19_20)))\n",
    "col_name = ['Time', 'Country','Volatility','Event_desc','Event_eval',\n",
    "            'Data_format','Actual','Forecast','Previous']\n",
    "economic_calendar.columns = col_name\n",
    "economic_calendar.index.names = ['Date']\n",
    "economic_calendar = economic_calendar.fillna(0)\n",
    "\n",
    "## Remove white spaces from columns\n",
    "economic_calendar['Country']=(economic_calendar['Country'].str.strip())\n",
    "economic_calendar['Volatility']=(economic_calendar['Volatility'].str.strip())\n",
    "economic_calendar['Event_desc']=(economic_calendar['Event_desc'].str.strip())\n",
    "economic_calendar['Event_eval']=(economic_calendar['Event_eval'].str.strip())\n",
    "\n",
    "## Filtering US Data\n",
    "US_data = economic_calendar[economic_calendar['Country']==\"United States\"]\n",
    "US_data.head()"
   ]
  },
  {
   "cell_type": "markdown",
   "metadata": {},
   "source": [
    "For the purpose of this exercise - I will only be using four economic indicators; <b>oil invetory</b>, <b>industrial production index</b>, <b>manufacturing production index</b> and <b>crude oil speculative position</b>. This is because these factors would allow us gain a hollistic view on the economy and where it is headed. \n",
    "\n",
    "<b><u>Note<u></b>: In reality, one might look into different factors to guage where the economy is headed such as interest rate, BOP, BOT etc."
   ]
  },
  {
   "cell_type": "code",
   "execution_count": 3,
   "metadata": {},
   "outputs": [],
   "source": [
    "## Extracting data on the four economic indicators \n",
    "oil_inventory = [c for c in US_data[\"Event_desc\"] if 'Crude Oil Inventories' in c]\n",
    "industrial_production = [c for c in US_data[\"Event_desc\"] if \"Industrial Production\" in c]\n",
    "manufacturing_production = [c for c in US_data[\"Event_desc\"] if \"Manufacturing Production\" in c]\n",
    "crude_oil_speculative_positions = [c for c in US_data[\"Event_desc\"] if 'CFTC Crude Oil speculative net positions' in c]\n",
    "\n",
    "## Extracting data sets on each indicator\n",
    "oil_inventory = US_data[US_data[\"Event_desc\"].isin(oil_inventory)]\n",
    "industrial_production = US_data[US_data[\"Event_desc\"].isin(industrial_production)]\n",
    "manufacturing_production = US_data[US_data[\"Event_desc\"].isin(manufacturing_production)]\n",
    "crude_oil_speculative_positions = US_data[US_data[\"Event_desc\"].isin(crude_oil_speculative_positions)]"
   ]
  },
  {
   "cell_type": "code",
   "execution_count": 4,
   "metadata": {
    "collapsed": true
   },
   "outputs": [
    {
     "name": "stderr",
     "output_type": "stream",
     "text": [
      "<ipython-input-4-ddd1e018de35>:11: SettingWithCopyWarning: \n",
      "A value is trying to be set on a copy of a slice from a DataFrame.\n",
      "Try using .loc[row_indexer,col_indexer] = value instead\n",
      "\n",
      "See the caveats in the documentation: http://pandas.pydata.org/pandas-docs/stable/user_guide/indexing.html#returning-a-view-versus-a-copy\n",
      "  crude_oil_speculative_positions['Adjusted_Actual'] = crude_oil_speculative_positions.Actual.apply(adjust_data)\n"
     ]
    }
   ],
   "source": [
    "## Helper functions to convert data in string format into float for calculation purposes\n",
    "def adjust_data(positions):\n",
    "    ## takes in a string and returns a float * 1000 \n",
    "    positions = str(positions).strip()\n",
    "    if 'k' in str(positions):\n",
    "        positions = str(positions)[:-1]\n",
    "        return float(positions) * 1000\n",
    "    return float(positions) * 1000\n",
    "\n",
    "## Setting up crude oil column    \n",
    "crude_oil_speculative_positions['Adjusted_Actual'] = crude_oil_speculative_positions.Actual.apply(adjust_data)"
   ]
  },
  {
   "cell_type": "markdown",
   "metadata": {},
   "source": [
    "Because the frequency of data is not the same, I decided to resample data on monthly basis to make the dataset balanced. Here, one could use different oversampling methods to make the dataset more balanced. "
   ]
  },
  {
   "cell_type": "code",
   "execution_count": 5,
   "metadata": {},
   "outputs": [],
   "source": [
    "## Preparing Oil Inventory data\n",
    "oil_inventory = (pd.to_numeric(oil_inventory[\"Actual\"]).to_frame()).resample(\"M\").sum()\n",
    "oil_inventory['Datetime'] = (oil_inventory.index.strftime(\"%m-%y\"))\n",
    "oil_inventory.set_index('Datetime', inplace = True)\n",
    "## Preparing Industrial Production data\n",
    "industrial_production = (pd.to_numeric(industrial_production[\"Actual\"]).to_frame()).resample(\"M\").sum()\n",
    "industrial_production['Datetime'] = (industrial_production.index.strftime(\"%m-%y\"))\n",
    "industrial_production.set_index('Datetime', inplace = True)\n",
    "## Preparing Manfucturing Production data\n",
    "manufacturing_production = (pd.to_numeric(manufacturing_production[\"Actual\"]).to_frame()).resample(\"M\").sum()\n",
    "manufacturing_production['Datetime'] = (manufacturing_production.index.strftime(\"%m-%y\"))\n",
    "manufacturing_production.set_index('Datetime', inplace = True)\n",
    "## Preparing Crude Oil Speculative Positions data\n",
    "crude_oil_speculative_positions = (crude_oil_speculative_positions[['Adjusted_Actual']]).resample(\"M\").sum()\n",
    "crude_oil_speculative_positions['Datetime'] = (crude_oil_speculative_positions.index.strftime(\"%m-%y\"))\n",
    "crude_oil_speculative_positions.set_index('Datetime', inplace = True)"
   ]
  },
  {
   "cell_type": "markdown",
   "metadata": {},
   "source": [
    "Once all the individual data sets are pre-processed, the next step is to combine all of them into one dataframe. This is done in the next cell."
   ]
  },
  {
   "cell_type": "code",
   "execution_count": 6,
   "metadata": {},
   "outputs": [
    {
     "data": {
      "text/html": [
       "<div>\n",
       "<style scoped>\n",
       "    .dataframe tbody tr th:only-of-type {\n",
       "        vertical-align: middle;\n",
       "    }\n",
       "\n",
       "    .dataframe tbody tr th {\n",
       "        vertical-align: top;\n",
       "    }\n",
       "\n",
       "    .dataframe thead th {\n",
       "        text-align: right;\n",
       "    }\n",
       "</style>\n",
       "<table border=\"1\" class=\"dataframe\">\n",
       "  <thead>\n",
       "    <tr style=\"text-align: right;\">\n",
       "      <th></th>\n",
       "      <th>crude_oil_inventory</th>\n",
       "      <th>crude_oil_spec_position</th>\n",
       "      <th>manufacturing_index</th>\n",
       "      <th>industrial_index</th>\n",
       "    </tr>\n",
       "    <tr>\n",
       "      <th>Datetime</th>\n",
       "      <th></th>\n",
       "      <th></th>\n",
       "      <th></th>\n",
       "      <th></th>\n",
       "    </tr>\n",
       "  </thead>\n",
       "  <tbody>\n",
       "    <tr>\n",
       "      <th>01-11</th>\n",
       "      <td>1.0</td>\n",
       "      <td>628500.0</td>\n",
       "      <td>0.4</td>\n",
       "      <td>0.8</td>\n",
       "    </tr>\n",
       "    <tr>\n",
       "      <th>02-11</th>\n",
       "      <td>6.2</td>\n",
       "      <td>702700.0</td>\n",
       "      <td>0.2</td>\n",
       "      <td>-0.1</td>\n",
       "    </tr>\n",
       "    <tr>\n",
       "      <th>03-11</th>\n",
       "      <td>8.8</td>\n",
       "      <td>1055800.0</td>\n",
       "      <td>0.0</td>\n",
       "      <td>-0.1</td>\n",
       "    </tr>\n",
       "    <tr>\n",
       "      <th>04-11</th>\n",
       "      <td>7.5</td>\n",
       "      <td>1262500.0</td>\n",
       "      <td>0.7</td>\n",
       "      <td>0.8</td>\n",
       "    </tr>\n",
       "    <tr>\n",
       "      <th>05-11</th>\n",
       "      <td>7.8</td>\n",
       "      <td>858100.0</td>\n",
       "      <td>-0.6</td>\n",
       "      <td>0.0</td>\n",
       "    </tr>\n",
       "  </tbody>\n",
       "</table>\n",
       "</div>"
      ],
      "text/plain": [
       "          crude_oil_inventory  crude_oil_spec_position  manufacturing_index  \\\n",
       "Datetime                                                                      \n",
       "01-11                     1.0                 628500.0                  0.4   \n",
       "02-11                     6.2                 702700.0                  0.2   \n",
       "03-11                     8.8                1055800.0                  0.0   \n",
       "04-11                     7.5                1262500.0                  0.7   \n",
       "05-11                     7.8                 858100.0                 -0.6   \n",
       "\n",
       "          industrial_index  \n",
       "Datetime                    \n",
       "01-11                  0.8  \n",
       "02-11                 -0.1  \n",
       "03-11                 -0.1  \n",
       "04-11                  0.8  \n",
       "05-11                  0.0  "
      ]
     },
     "execution_count": 6,
     "metadata": {},
     "output_type": "execute_result"
    }
   ],
   "source": [
    "model_data = pd.merge(oil_inventory,crude_oil_speculative_positions,on = \"Datetime\",how = 'outer')\n",
    "model_data = pd.merge(model_data,manufacturing_production,on = \"Datetime\",how = 'outer')\n",
    "model_data = pd.merge(model_data,industrial_production,on = \"Datetime\",how = 'outer')\n",
    "model_data.columns = ['crude_oil_inventory','crude_oil_spec_position','manufacturing_index','industrial_index']\n",
    "model_data.dropna(inplace = True)\n",
    "model_data.head()"
   ]
  },
  {
   "cell_type": "markdown",
   "metadata": {},
   "source": [
    "## Step 2 - Getting Asset Data\n",
    "\n",
    "Now that we have preprocessed the economic data required for the model the next step is to get the monthly price data for any asset class and use the adjusted close column for our algorithms. For this exercise I am using <b>Exxon Mobil stock (XOM) </b>.\n",
    "\n",
    "Since we are working with time series data, we would have normally used ARIMA or EWMA models. For this exercise - I will be manually handling lag by adding <b>t+1</b> asset price to economic data that relates to time <b>t</b>. In practice, it may not the best approach. "
   ]
  },
  {
   "cell_type": "code",
   "execution_count": 7,
   "metadata": {},
   "outputs": [
    {
     "name": "stdout",
     "output_type": "stream",
     "text": [
      "[*********************100%***********************]  1 of 1 completed\n"
     ]
    },
    {
     "data": {
      "text/html": [
       "<div>\n",
       "<style scoped>\n",
       "    .dataframe tbody tr th:only-of-type {\n",
       "        vertical-align: middle;\n",
       "    }\n",
       "\n",
       "    .dataframe tbody tr th {\n",
       "        vertical-align: top;\n",
       "    }\n",
       "\n",
       "    .dataframe thead th {\n",
       "        text-align: right;\n",
       "    }\n",
       "</style>\n",
       "<table border=\"1\" class=\"dataframe\">\n",
       "  <thead>\n",
       "    <tr style=\"text-align: right;\">\n",
       "      <th></th>\n",
       "      <th>Adj_Close</th>\n",
       "      <th>crude_oil_inventory</th>\n",
       "      <th>crude_oil_spec_position</th>\n",
       "      <th>manufacturing_index</th>\n",
       "      <th>industrial_index</th>\n",
       "    </tr>\n",
       "    <tr>\n",
       "      <th>Datetime</th>\n",
       "      <th></th>\n",
       "      <th></th>\n",
       "      <th></th>\n",
       "      <th></th>\n",
       "      <th></th>\n",
       "    </tr>\n",
       "  </thead>\n",
       "  <tbody>\n",
       "    <tr>\n",
       "      <th>01-11</th>\n",
       "      <td>55.539688</td>\n",
       "      <td>1.0</td>\n",
       "      <td>628500.0</td>\n",
       "      <td>0.4</td>\n",
       "      <td>0.8</td>\n",
       "    </tr>\n",
       "    <tr>\n",
       "      <th>02-11</th>\n",
       "      <td>58.878391</td>\n",
       "      <td>6.2</td>\n",
       "      <td>702700.0</td>\n",
       "      <td>0.2</td>\n",
       "      <td>-0.1</td>\n",
       "    </tr>\n",
       "    <tr>\n",
       "      <th>03-11</th>\n",
       "      <td>58.219833</td>\n",
       "      <td>8.8</td>\n",
       "      <td>1055800.0</td>\n",
       "      <td>0.0</td>\n",
       "      <td>-0.1</td>\n",
       "    </tr>\n",
       "    <tr>\n",
       "      <th>04-11</th>\n",
       "      <td>60.884159</td>\n",
       "      <td>7.5</td>\n",
       "      <td>1262500.0</td>\n",
       "      <td>0.7</td>\n",
       "      <td>0.8</td>\n",
       "    </tr>\n",
       "    <tr>\n",
       "      <th>05-11</th>\n",
       "      <td>57.763115</td>\n",
       "      <td>7.8</td>\n",
       "      <td>858100.0</td>\n",
       "      <td>-0.6</td>\n",
       "      <td>0.0</td>\n",
       "    </tr>\n",
       "  </tbody>\n",
       "</table>\n",
       "</div>"
      ],
      "text/plain": [
       "          Adj_Close  crude_oil_inventory  crude_oil_spec_position  \\\n",
       "Datetime                                                            \n",
       "01-11     55.539688                  1.0                 628500.0   \n",
       "02-11     58.878391                  6.2                 702700.0   \n",
       "03-11     58.219833                  8.8                1055800.0   \n",
       "04-11     60.884159                  7.5                1262500.0   \n",
       "05-11     57.763115                  7.8                 858100.0   \n",
       "\n",
       "          manufacturing_index  industrial_index  \n",
       "Datetime                                         \n",
       "01-11                     0.4               0.8  \n",
       "02-11                     0.2              -0.1  \n",
       "03-11                     0.0              -0.1  \n",
       "04-11                     0.7               0.8  \n",
       "05-11                    -0.6               0.0  "
      ]
     },
     "execution_count": 7,
     "metadata": {},
     "output_type": "execute_result"
    }
   ],
   "source": [
    "import yfinance as yf\n",
    "# Company Ticker\n",
    "# symbol = \"GC=F\"\n",
    "symbol = 'XOM'\n",
    "# 'IYT'\n",
    "\n",
    "#Import asset price data from yahoo finance\n",
    "Asset_data = yf.download(symbol,start = \"2010-01-01\",end=\"2020-04-30\", progress=True, interval='1mo')\n",
    "Asset_data['Datetime'] = (Asset_data.index.strftime(\"%m-%y\"))\n",
    "Asset_data.set_index('Datetime', inplace = True)\n",
    "Asset_data = (Asset_data[['Adj Close']].rename(columns={'Adj Close':\"Adj_Close\"}))\n",
    "## Merge company data with \n",
    "final_data = (pd.merge(Asset_data,model_data,on = \"Datetime\",how = 'inner')).dropna()\n",
    "final_data.head()"
   ]
  },
  {
   "cell_type": "code",
   "execution_count": 8,
   "metadata": {},
   "outputs": [
    {
     "data": {
      "text/html": [
       "<div>\n",
       "<style scoped>\n",
       "    .dataframe tbody tr th:only-of-type {\n",
       "        vertical-align: middle;\n",
       "    }\n",
       "\n",
       "    .dataframe tbody tr th {\n",
       "        vertical-align: top;\n",
       "    }\n",
       "\n",
       "    .dataframe thead th {\n",
       "        text-align: right;\n",
       "    }\n",
       "</style>\n",
       "<table border=\"1\" class=\"dataframe\">\n",
       "  <thead>\n",
       "    <tr style=\"text-align: right;\">\n",
       "      <th></th>\n",
       "      <th>Adj_Close</th>\n",
       "      <th>crude_oil_inventory</th>\n",
       "      <th>crude_oil_spec_position</th>\n",
       "      <th>manufacturing_index</th>\n",
       "      <th>industrial_index</th>\n",
       "      <th>movement</th>\n",
       "      <th>movement_category</th>\n",
       "    </tr>\n",
       "    <tr>\n",
       "      <th>Datetime</th>\n",
       "      <th></th>\n",
       "      <th></th>\n",
       "      <th></th>\n",
       "      <th></th>\n",
       "      <th></th>\n",
       "      <th></th>\n",
       "      <th></th>\n",
       "    </tr>\n",
       "  </thead>\n",
       "  <tbody>\n",
       "    <tr>\n",
       "      <th>02-11</th>\n",
       "      <td>58.878391</td>\n",
       "      <td>6.2</td>\n",
       "      <td>702700.0</td>\n",
       "      <td>0.2</td>\n",
       "      <td>-0.1</td>\n",
       "      <td>3.338703</td>\n",
       "      <td>1</td>\n",
       "    </tr>\n",
       "    <tr>\n",
       "      <th>03-11</th>\n",
       "      <td>58.219833</td>\n",
       "      <td>8.8</td>\n",
       "      <td>1055800.0</td>\n",
       "      <td>0.0</td>\n",
       "      <td>-0.1</td>\n",
       "      <td>-0.658558</td>\n",
       "      <td>-1</td>\n",
       "    </tr>\n",
       "    <tr>\n",
       "      <th>04-11</th>\n",
       "      <td>60.884159</td>\n",
       "      <td>7.5</td>\n",
       "      <td>1262500.0</td>\n",
       "      <td>0.7</td>\n",
       "      <td>0.8</td>\n",
       "      <td>2.664326</td>\n",
       "      <td>1</td>\n",
       "    </tr>\n",
       "    <tr>\n",
       "      <th>05-11</th>\n",
       "      <td>57.763115</td>\n",
       "      <td>7.8</td>\n",
       "      <td>858100.0</td>\n",
       "      <td>-0.6</td>\n",
       "      <td>0.0</td>\n",
       "      <td>-3.121044</td>\n",
       "      <td>-1</td>\n",
       "    </tr>\n",
       "    <tr>\n",
       "      <th>06-11</th>\n",
       "      <td>56.636185</td>\n",
       "      <td>-11.4</td>\n",
       "      <td>682700.0</td>\n",
       "      <td>0.2</td>\n",
       "      <td>0.1</td>\n",
       "      <td>-1.126930</td>\n",
       "      <td>-1</td>\n",
       "    </tr>\n",
       "  </tbody>\n",
       "</table>\n",
       "</div>"
      ],
      "text/plain": [
       "          Adj_Close  crude_oil_inventory  crude_oil_spec_position  \\\n",
       "Datetime                                                            \n",
       "02-11     58.878391                  6.2                 702700.0   \n",
       "03-11     58.219833                  8.8                1055800.0   \n",
       "04-11     60.884159                  7.5                1262500.0   \n",
       "05-11     57.763115                  7.8                 858100.0   \n",
       "06-11     56.636185                -11.4                 682700.0   \n",
       "\n",
       "          manufacturing_index  industrial_index  movement  movement_category  \n",
       "Datetime                                                                      \n",
       "02-11                     0.2              -0.1  3.338703                  1  \n",
       "03-11                     0.0              -0.1 -0.658558                 -1  \n",
       "04-11                     0.7               0.8  2.664326                  1  \n",
       "05-11                    -0.6               0.0 -3.121044                 -1  \n",
       "06-11                     0.2               0.1 -1.126930                 -1  "
      ]
     },
     "execution_count": 8,
     "metadata": {},
     "output_type": "execute_result"
    }
   ],
   "source": [
    "## Since I am treating the problem as a classification problem therefore I am interested in calculating\n",
    "## if the asset price moved up or down\n",
    "final_data['movement'] = final_data.Adj_Close - final_data.Adj_Close.shift(1)\n",
    "\n",
    "\n",
    "## function to classify upward movement as 1, downward as -1 and if its the same then 0\n",
    "def categorize_movement(value):\n",
    "    if value > 0: \n",
    "        return 1\n",
    "    if value < 0:\n",
    "        return -1\n",
    "    return 0 \n",
    "final_data['movement_category'] = final_data.movement.apply(categorize_movement)\n",
    "final_data.dropna(inplace=True)\n",
    "final_data.head()"
   ]
  },
  {
   "cell_type": "markdown",
   "metadata": {},
   "source": [
    "## Step 3 - Split the data for Algorithms\n",
    "\n",
    "Splitting 70% of for training purposes and using 30% for testing and back testing. \n",
    "Note that while one could use multiple classification models here and use what the majority of models predict as proxy for trading siganl, I only used the Bernoulli Naive Bayes Classifier. This is because it works well with a smaller data set. If I had access to more data points then using different algorithms would make the prediction alot more better."
   ]
  },
  {
   "cell_type": "code",
   "execution_count": 24,
   "metadata": {},
   "outputs": [],
   "source": [
    "X = final_data[['crude_oil_inventory', 'crude_oil_spec_position',\n",
    "       'manufacturing_index', 'industrial_index']]\n",
    "y = final_data['movement_category']\n",
    "\n",
    "X_train = X[:int(X.shape[0]*0.7)]\n",
    "X_test = X[int(X.shape[0]*0.7):]\n",
    "y_train = y[:int(X.shape[0]*0.7)]\n",
    "y_test = y[int(X.shape[0]*0.7):]"
   ]
  },
  {
   "cell_type": "code",
   "execution_count": 25,
   "metadata": {
    "scrolled": true
   },
   "outputs": [],
   "source": [
    "backtest_df = pd.DataFrame()\n",
    "tscv = TimeSeriesSplit(n_splits=3)\n",
    "for tr_index, val_index in tscv.split(X_train):\n",
    "    X_tr, X_val = X_train.iloc[tr_index], X_train.iloc[val_index]\n",
    "    y_tr, y_val = y_train.iloc[tr_index], y_train.iloc[val_index]\n",
    "    \n",
    "    models = [\n",
    "#           ('LogReg', LogisticRegression()), \n",
    "#           ('RF', RandomForestClassifier()),\n",
    "#           ('KNN', KNeighborsClassifier()),\n",
    "#           ('SVM', SVC()), \n",
    "          ('BERN', BernoulliNB()),\n",
    "#           ('GNB', GaussianNB()),  \n",
    "#           ('XGB', XGBClassifier())\n",
    "        ]\n",
    "    for name, model in models:\n",
    "        kfold = model_selection.KFold(n_splits=5, shuffle=True, random_state=90210)\n",
    "        cv_results = model_selection.cross_validate(model, X_train, y_train, cv=kfold)\n",
    "        clf = model.fit(X_train, y_train)\n",
    "        y_pred = clf.predict(X_test)\n",
    "        backtest_df[name] = y_pred"
   ]
  },
  {
   "cell_type": "code",
   "execution_count": 26,
   "metadata": {},
   "outputs": [
    {
     "data": {
      "text/plain": [
       "Text(0.5, 1.0, 'Comparing Machine Learning Strategy performance with Buy-and-Hold')"
      ]
     },
     "execution_count": 26,
     "metadata": {},
     "output_type": "execute_result"
    },
    {
     "data": {
      "image/png": "[encoded data removed]",
      "text/plain": [
       "<Figure size 1440x720 with 2 Axes>"
      ]
     },
     "metadata": {
      "needs_background": "light"
     },
     "output_type": "display_data"
    }
   ],
   "source": [
    "\n",
    "price_data = (final_data[int(X.shape[0]*0.7):].Adj_Close).to_frame()\n",
    "price_data.reset_index(inplace=True)\n",
    "\n",
    "\n",
    "backtest_df['signal']=backtest_df.mode(axis=1)\n",
    "backtest_df['price'] = price_data['Adj_Close'].to_numpy()\n",
    "backtest_df['position'] = (backtest_df['signal'])*1\n",
    "backtest_df.dropna(inplace=True)\n",
    "\n",
    "\n",
    "\n",
    "#Compute returns\n",
    "lag_prc = backtest_df['price'].shift(1) #Previous-day price\n",
    "backtest_df['Ret_Stock'] = (backtest_df['price'] - lag_prc)/lag_prc #compute daily return\n",
    "backtest_df['Ret_Strat'] = backtest_df[\"position\"].shift(1) * backtest_df['Ret_Stock'] #Use previous-day position\n",
    "backtest_df.index = y_test.index\n",
    "#Compute $1000 invested in the two strategies\n",
    "backtest_df.dropna(inplace=True)\n",
    "initVal = 1000\n",
    "cumValue_BHS = initVal*(1+backtest_df['Ret_Stock']).cumprod() #compute cumulative compounded returns of buy-and-hold strategy\n",
    "cumValue_ML = initVal*(1+backtest_df['Ret_Strat']).cumprod() #compute cumulative compounded returns of SMAS strategy\n",
    "\n",
    "fig, ax = plt.subplots(figsize=(20,10))\n",
    "plt.plot(backtest_df.index, cumValue_BHS,color='black')\n",
    "plt.plot(backtest_df.index, cumValue_ML,color='blue')\n",
    "ax.xaxis.set_tick_params(rotation=90, labelsize=20)\n",
    "ax.yaxis.set_tick_params(rotation=0, labelsize=20)\n",
    "\n",
    "ax2 = ax.twinx()\n",
    "ax2.plot(backtest_df.index,backtest_df['position'],color='red')\n",
    "ax2.yaxis.set_tick_params(rotation=0, labelsize=20)\n",
    "\n",
    "plt.title(\"Comparing Machine Learning Strategy performance with Buy-and-Hold\",fontsize = 30)\n"
   ]
  },
  {
   "cell_type": "markdown",
   "metadata": {},
   "source": [
    "Notice that the ML strategy performed better than Buy-and-hold strategy for the most part of the investment period. However, starting February 2020 both the strategies incurred extreme losses. This coincides with Covid-19 and can be explained that due to the pandemic econmic activity slowed down. This inturn reduced demand for oil and therefore, adding a downward pressure on oil prices or stock prices of companies in the oil and gas sector. "
   ]
  },
  {
   "cell_type": "markdown",
   "metadata": {},
   "source": [
    "## Step 4 - Evaluating Performance\n",
    "\n",
    "Since we have implmented the algorithm we can evaluate the performance of the two strategy. The results can be seen below"
   ]
  },
  {
   "cell_type": "code",
   "execution_count": 27,
   "metadata": {},
   "outputs": [
    {
     "name": "stdout",
     "output_type": "stream",
     "text": [
      "Investing $1000 in the buy-and-hold strategy produces $535.1 over the investment period\n",
      "Investing $1000 in the ML Strategy strategy produces $931.1 over the investment period\n",
      "The annual arithmetic average return for BHS is -19.03% with a volatility of 28.25%\n",
      "The annual arithmetic average return for ML Strategy is  1.64% with a volatility of 28.80%\n",
      "The annualized Sharpe Ratio for the buy-and-hold strategy is -0.67, for ML Strategy is 0.06\n"
     ]
    }
   ],
   "source": [
    "\n",
    "avg_return = backtest_df[[\"Ret_Stock\",\"Ret_Strat\"]].mean()\n",
    "volatility = backtest_df[[\"Ret_Stock\",\"Ret_Strat\"]].std()\n",
    "#Annualized measures\n",
    "annual_return = avg_return * 12\n",
    "annual_vol = volatility * np.sqrt(12)\n",
    "SR = annual_return/annual_vol #We assume for simplicity that the risk-free rate is zero, so excess returns equal raw returns\n",
    "print(\"Investing $1000 in the buy-and-hold strategy produces $%5.1f over the investment period\"%(cumValue_BHS.tail(1)))\n",
    "print(\"Investing $1000 in the ML Strategy strategy produces $%5.1f over the investment period\"%(cumValue_ML.iloc[-1]))\n",
    "# The instruction 'cumValue_SMAS.iloc[-1]' is equivalent to 'cumValue_SMAS.tail(1)\n",
    "print(\"The annual arithmetic average return for BHS is %5.2f%% with a volatility of %5.2f%%\"\\\n",
    "      %(annual_return[0]*100,annual_vol[0]*100))\n",
    "print(\"The annual arithmetic average return for ML Strategy is %5.2f%% with a volatility of %5.2f%%\"\\\n",
    "      %(annual_return[1]*100,annual_vol[1]*100))\n",
    "print(\"The annualized Sharpe Ratio for the buy-and-hold strategy is %4.2f, for ML Strategy is %4.2f\" %(SR[0],SR[1]))"
   ]
  },
  {
   "cell_type": "markdown",
   "metadata": {},
   "source": [
    "    "
   ]
  },
  {
   "cell_type": "markdown",
   "metadata": {},
   "source": [
    "   "
   ]
  },
  {
   "cell_type": "markdown",
   "metadata": {},
   "source": [
    "If you have any feedback or comments, feel free to reach out at soom6820@mylaurier.ca. \n",
    "Thank you!"
   ]
  },
  {
   "cell_type": "code",
   "execution_count": null,
   "metadata": {},
   "outputs": [],
   "source": []
  }
 ],
 "metadata": {
  "kernelspec": {
   "display_name": "Python 3",
   "language": "python",
   "name": "python3"
  },
  "language_info": {
   "codemirror_mode": {
    "name": "ipython",
    "version": 3
   },
   "file_extension": ".py",
   "mimetype": "text/x-python",
   "name": "python",
   "nbconvert_exporter": "python",
   "pygments_lexer": "ipython3",
   "version": "3.8.0"
  }
 },
 "nbformat": 4,
 "nbformat_minor": 2
}
